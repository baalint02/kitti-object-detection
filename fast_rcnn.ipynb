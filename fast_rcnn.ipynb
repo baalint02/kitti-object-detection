{
  "cells": [
    {
      "cell_type": "code",
      "execution_count": 1,
      "metadata": {},
      "outputs": [],
      "source": [
        "from kitti_detection import config\n",
        "from kitti_detection.dataset import DataSample, class_names, class_counts, load_train_val_test_dataset\n",
        "from kitti_detection.utils import display_samples_h, display_one\n",
        "\n",
        "import torch\n",
        "from torch import nn, optim, Tensor\n",
        "import torch.nn.init as init\n",
        "from torch.nn.utils import clip_grad_norm_\n",
        "from torch.optim.lr_scheduler import StepLR\n",
        "from torchvision import models\n",
        "from torch.utils.data import DataLoader\n",
        "from torchvision.transforms import v2\n",
        "from torchvision.tv_tensors import BoundingBoxes\n",
        "from torchvision.ops.roi_pool import RoIPool\n",
        "from torchvision.models import vgg16, VGG16_Weights\n",
        "from torchvision.models import resnet50, ResNet50_Weights\n",
        "from torchvision.ops import box_iou\n",
        "\n",
        "import cv2\n",
        "import numpy as np\n",
        "import math\n",
        "import random\n",
        "import time\n",
        "\n",
        "from typing import Optional"
      ]
    },
    {
      "cell_type": "markdown",
      "metadata": {
        "id": "TkgD7xjLQ2j-"
      },
      "source": [
        "# Overview"
      ]
    },
    {
      "cell_type": "code",
      "execution_count": 2,
      "metadata": {
        "colab": {
          "base_uri": "https://localhost:8080/"
        },
        "id": "-ZkkHjyHQ1cM",
        "outputId": "26dfbf69-d3fb-4120-d1fc-3b9ccabc7eaf"
      },
      "outputs": [
        {
          "data": {
            "text/plain": [
              "True"
            ]
          },
          "execution_count": 2,
          "metadata": {},
          "output_type": "execute_result"
        }
      ],
      "source": [
        "torch.autograd.set_detect_anomaly(True)\n",
        "torch.cuda.is_available()"
      ]
    },
    {
      "cell_type": "code",
      "execution_count": 3,
      "metadata": {},
      "outputs": [],
      "source": [
        "# Disabling the randomization to always get the same results\n",
        "torch.manual_seed(0)\n",
        "random.seed(0)\n",
        "np.random.seed(0)"
      ]
    },
    {
      "cell_type": "code",
      "execution_count": 4,
      "metadata": {
        "colab": {
          "base_uri": "https://localhost:8080/"
        },
        "id": "fO_49-PFQ1cN",
        "outputId": "360e8413-81cb-4b45-e4e1-fc91135089dd"
      },
      "outputs": [
        {
          "name": "stdout",
          "output_type": "stream",
          "text": [
            "cuda\n"
          ]
        }
      ],
      "source": [
        "DEVICE = torch.device(\"cuda\" if torch.cuda.is_available() else \"cpu\")\n",
        "#DEVICE = torch.device(\"cpu\") \n",
        "\n",
        "print(DEVICE)"
      ]
    },
    {
      "cell_type": "code",
      "execution_count": 5,
      "metadata": {
        "colab": {
          "base_uri": "https://localhost:8080/"
        },
        "id": "kah-dAEHQ1cO",
        "outputId": "104794a9-598a-4ec7-d80d-c2633bae7621"
      },
      "outputs": [
        {
          "name": "stderr",
          "output_type": "stream",
          "text": [
            "/home/baalint/.local/lib/python3.10/site-packages/torchvision/transforms/v2/_deprecated.py:42: UserWarning: The transform `ToTensor()` is deprecated and will be removed in a future release. Instead, please use `v2.Compose([v2.ToImage(), v2.ToDtype(torch.float32, scale=True)])`.Output is equivalent up to float precision.\n",
            "  warnings.warn(\n"
          ]
        }
      ],
      "source": [
        "transforms = v2.Compose([\n",
        "    v2.CenterCrop(size=(370,1224)),\n",
        "    #v2.RandomHorizontalFlip(p=0.5),\n",
        "    v2.ToTensor(),  # Convert PIL Image to Tensor\n",
        "    v2.Normalize(mean = [0.485, 0.456, 0.406], std = [0.229, 0.224, 0.225]),  # Normalize to [0, 1]\n",
        "    v2.SanitizeBoundingBoxes(min_size=15.0)\n",
        "])"
      ]
    },
    {
      "cell_type": "code",
      "execution_count": 6,
      "metadata": {
        "colab": {
          "base_uri": "https://localhost:8080/"
        },
        "id": "kjkMuTluQ1cO",
        "outputId": "d1295969-6f06-41b5-e434-275b98676dd7"
      },
      "outputs": [
        {
          "name": "stdout",
          "output_type": "stream",
          "text": [
            "/data/image/train\n"
          ]
        }
      ],
      "source": [
        "train_dataset, val_dataset, test_dataset = load_train_val_test_dataset()\n",
        "\n",
        "train_dataset.transform = transforms\n",
        "val_dataset.transform = transforms\n",
        "test_dataset.transform = transforms"
      ]
    },
    {
      "cell_type": "code",
      "execution_count": 7,
      "metadata": {
        "id": "Cpxmgg7AQ1cO"
      },
      "outputs": [],
      "source": [
        "n_classes = len(class_names)"
      ]
    },
    {
      "cell_type": "code",
      "execution_count": 8,
      "metadata": {},
      "outputs": [],
      "source": [
        "data_loader = DataLoader(train_dataset, batch_size=None, shuffle=False)\n",
        "valid_loader = DataLoader(val_dataset, batch_size=None, shuffle=False)\n",
        "test_loader = DataLoader(test_dataset, batch_size=None, shuffle=False)"
      ]
    },
    {
      "cell_type": "markdown",
      "metadata": {},
      "source": [
        "## RoI proposal serialization"
      ]
    },
    {
      "cell_type": "code",
      "execution_count": 9,
      "metadata": {},
      "outputs": [],
      "source": [
        "def convert_tensor_to_cv2(tensor: Tensor) -> np.array:\n",
        "    numpy_image = tensor.numpy(force=True) # force=True if on GPU\n",
        "    # Detaches tensor and returns numpy\n",
        "\n",
        "    # CHW -> HWC\n",
        "    cv2_image = np.transpose(numpy_image, (1, 2, 0))\n",
        "\n",
        "    # Convert color space: RGB -> BGR\n",
        "    cv2_image = cv2.cvtColor(cv2_image, cv2.COLOR_RGB2BGR)\n",
        "\n",
        "    return cv2_image\n",
        "\n",
        "def generate_roi_proposals(img) -> BoundingBoxes:\n",
        "    # Convert image from tensor to opencv format.\n",
        "    cv2_image = convert_tensor_to_cv2(img)\n",
        "\n",
        "    ss = cv2.ximgproc.segmentation.createSelectiveSearchSegmentation()\n",
        "    ss.setBaseImage(cv2_image)\n",
        "    ss.switchToSelectiveSearchFast() #Other option is fast, but less accurate\n",
        "    rects = ss.process() # rects is a np array containing [x, y, w, h] numpy arrays\n",
        "    #print(f'Duration of ss: {duration_ss} seconds')\n",
        "\n",
        "    #print(f'Number of generated RoIs is: {len(rects)}')\n",
        "\n",
        "    boxes = [(float(rect[0]), float(rect[1]), float(rect[0]+rect[2]), float(rect[1]+rect[3])) for rect in rects] \n",
        "    boxes = torch.tensor(boxes, device=DEVICE)\n",
        "\n",
        "    return boxes"
      ]
    },
    {
      "cell_type": "code",
      "execution_count": 10,
      "metadata": {},
      "outputs": [
        {
          "data": {
            "text/plain": [
              "\"\\nvalid_proposals_list = []\\n\\nfor idx, sample in enumerate(valid_loader):\\n    \\n    if not torch.numel(sample[1].get('labels')):\\n        continue\\n\\n    img = sample[0]\\n    boxes = sample[1].get('boxes')\\n    labels = sample[1].get('labels')\\n\\n    \\n    img = img.to(DEVICE)\\n\\n    roi_proposals = generate_roi_proposals(img)\\n\\n    valid_proposals_list.append(roi_proposals)\\n\\n    print(f'Iteration {idx+1} is done', end='\\r')\\n\\n\\ntorch.save(valid_proposals_list, 'roi_proposals_list_valid.pt')\\n\\nprint('Successful serialization of the images')\\n\\ntest_proposals_list = []\\n\\nfor idx, sample in enumerate(test_loader):\\n    \\n    if not torch.numel(sample[1].get('labels')):\\n        continue\\n\\n    img = sample[0]\\n    boxes = sample[1].get('boxes')\\n    labels = sample[1].get('labels')\\n\\n    \\n    img = img.to(DEVICE)\\n\\n    roi_proposals = generate_roi_proposals(img)\\n\\n    test_proposals_list.append(roi_proposals)\\n\\n    print(f'Iteration {idx+1} is done', end='\\r')\\n\\n\\ntorch.save(test_proposals_list, 'roi_proposals_list_test.pt')\\n\\nprint('Successful serialization of the images')\\n\""
            ]
          },
          "execution_count": 10,
          "metadata": {},
          "output_type": "execute_result"
        }
      ],
      "source": [
        "\"\"\"\n",
        "valid_proposals_list = []\n",
        "\n",
        "for idx, sample in enumerate(valid_loader):\n",
        "    \n",
        "    if not torch.numel(sample[1].get('labels')):\n",
        "        continue\n",
        "\n",
        "    img = sample[0]\n",
        "    boxes = sample[1].get('boxes')\n",
        "    labels = sample[1].get('labels')\n",
        "\n",
        "    \n",
        "    img = img.to(DEVICE)\n",
        "\n",
        "    roi_proposals = generate_roi_proposals(img)\n",
        "\n",
        "    valid_proposals_list.append(roi_proposals)\n",
        "\n",
        "    print(f'Iteration {idx+1} is done', end='\\r')\n",
        "\n",
        "\n",
        "torch.save(valid_proposals_list, 'roi_proposals_list_valid.pt')\n",
        "\n",
        "print('Successful serialization of the images')\n",
        "\n",
        "test_proposals_list = []\n",
        "\n",
        "for idx, sample in enumerate(test_loader):\n",
        "    \n",
        "    if not torch.numel(sample[1].get('labels')):\n",
        "        continue\n",
        "\n",
        "    img = sample[0]\n",
        "    boxes = sample[1].get('boxes')\n",
        "    labels = sample[1].get('labels')\n",
        "\n",
        "    \n",
        "    img = img.to(DEVICE)\n",
        "\n",
        "    roi_proposals = generate_roi_proposals(img)\n",
        "\n",
        "    test_proposals_list.append(roi_proposals)\n",
        "\n",
        "    print(f'Iteration {idx+1} is done', end='\\r')\n",
        "\n",
        "\n",
        "torch.save(test_proposals_list, 'roi_proposals_list_test.pt')\n",
        "\n",
        "print('Successful serialization of the images')\n",
        "\"\"\""
      ]
    },
    {
      "cell_type": "markdown",
      "metadata": {},
      "source": [
        "## Continue"
      ]
    },
    {
      "cell_type": "code",
      "execution_count": 11,
      "metadata": {
        "colab": {
          "base_uri": "https://localhost:8080/",
          "height": 854
        },
        "id": "Y3zxnLSnQ1cP",
        "outputId": "de2db99f-bdab-4825-a158-e0f22a6f4a71"
      },
      "outputs": [
        {
          "name": "stdout",
          "output_type": "stream",
          "text": [
            "<class 'list'>\n",
            "[tensor([[[-1.8268, -1.8439, -1.6898,  ..., -1.4843, -1.5185, -1.5014],\n",
            "         [-1.8268, -1.8782, -1.7069,  ..., -1.4843, -1.5185, -1.5185],\n",
            "         [-1.8268, -1.8097, -1.8097,  ..., -1.5357, -1.5699, -1.6042],\n",
            "         ...,\n",
            "         [-1.7925, -1.8268, -1.8439,  ..., -1.7069, -1.7754, -1.7754],\n",
            "         [-1.9124, -1.9124, -1.8782,  ..., -1.7754, -1.7583, -1.7583],\n",
            "         [-1.8953, -1.8782, -1.8782,  ..., -1.7412, -1.7412, -1.7754]],\n",
            "\n",
            "        [[-1.6506, -1.6155, -1.5280,  ..., -1.5280, -1.6155, -1.7381],\n",
            "         [-1.7031, -1.6331, -1.5455,  ..., -1.5280, -1.5980, -1.7206],\n",
            "         [-1.7556, -1.7556, -1.6681,  ..., -1.5280, -1.6331, -1.7381],\n",
            "         ...,\n",
            "         [-1.6331, -1.6506, -1.6506,  ..., -1.5980, -1.5805, -1.5630],\n",
            "         [-1.6681, -1.7031, -1.7206,  ..., -1.5980, -1.5980, -1.5630],\n",
            "         [-1.6856, -1.7206, -1.7381,  ..., -1.5105, -1.5280, -1.5105]],\n",
            "\n",
            "        [[-1.4907, -1.3164, -1.2293,  ..., -1.4036, -1.4384, -1.5430],\n",
            "         [-1.5256, -1.4559, -1.3861,  ..., -1.3687, -1.4384, -1.5604],\n",
            "         [-1.5256, -1.4733, -1.4384,  ..., -1.3339, -1.4210, -1.5604],\n",
            "         ...,\n",
            "         [-1.3164, -1.3164, -1.3164,  ..., -1.2467, -1.2467, -1.2641],\n",
            "         [-1.3164, -1.3687, -1.3861,  ..., -1.2293, -1.2467, -1.2816],\n",
            "         [-1.4036, -1.4907, -1.4733,  ..., -1.1596, -1.1421, -1.1944]]]), {'labels': tensor([3], dtype=torch.int32), 'boxes': BoundingBoxes([[712.4000, 143.0000, 810.7300, 307.9200]], format=BoundingBoxFormat.XYXY, canvas_size=(370, 1224))}]\n"
          ]
        },
        {
          "data": {
            "image/png": "[encoded data removed]",
            "text/plain": [
              "<Figure size 1320x1200 with 4 Axes>"
            ]
          },
          "metadata": {},
          "output_type": "display_data"
        }
      ],
      "source": [
        "elements = next(iter(data_loader))\n",
        "print(type(elements))\n",
        "print(elements)\n",
        "display_samples_h([next(iter(data_loader)) for _ in range(4)])"
      ]
    },
    {
      "cell_type": "markdown",
      "metadata": {},
      "source": [
        "# Model"
      ]
    },
    {
      "cell_type": "code",
      "execution_count": 12,
      "metadata": {
        "id": "qssbJGuZQ1cQ"
      },
      "outputs": [],
      "source": [
        "def new_forward_vgg(model, x: torch.Tensor) -> torch.Tensor:\n",
        "        x = model.features(x)\n",
        "        # Skipping the flattening, the average pooling and the original classifier\n",
        "        return x\n",
        "\n",
        "def new_forward_resnet(model, x: torch.Tensor) -> torch.Tensor:\n",
        "        x = model.conv1(x)\n",
        "        x = model.bn1(x)\n",
        "        x = model.relu(x)\n",
        "        x = model.maxpool(x)\n",
        "\n",
        "        x = model.layer1(x)\n",
        "        x = model.layer2(x)\n",
        "        x = model.layer3(x)\n",
        "\n",
        "        return x"
      ]
    },
    {
      "cell_type": "code",
      "execution_count": 13,
      "metadata": {
        "id": "w5CvKD3dQ1cQ"
      },
      "outputs": [],
      "source": [
        "def convert_rois(rois: torch.Tensor) -> torch.Tensor:\n",
        "    # Create a tensor of zeros with shape [64, 1]\n",
        "    zeros_column = torch.zeros(64, 1, device=DEVICE)\n",
        "\n",
        "    # Adding a column full of zeros as first column since RoI Pool needs the id of the picture in the batch (works for batch size 1)\n",
        "    final_rois = torch.cat((zeros_column, rois), dim=1)\n",
        "    return final_rois"
      ]
    },
    {
      "cell_type": "code",
      "execution_count": 14,
      "metadata": {},
      "outputs": [],
      "source": [
        "def check_for_nans(module, input, output):\n",
        "    if torch.isnan(output).any():\n",
        "        raise ValueError(f\"NaN values detected in output of {module}\")\n",
        "\n",
        "def print_grad(module, grad_input, grad_output):\n",
        "    print(f\"Gradient of module {module}:\")\n",
        "    print('input')\n",
        "    print(grad_input)\n",
        "    print('output')\n",
        "    print(grad_output)\n",
        "\n",
        "def register_hooks(model):\n",
        "    for layer in model.children():\n",
        "        layer.register_forward_hook(check_for_nans)\n",
        "        layer.register_forward_hook(print_grad)\n"
      ]
    },
    {
      "cell_type": "code",
      "execution_count": 15,
      "metadata": {
        "id": "YwvpSHLiQ1cR"
      },
      "outputs": [],
      "source": [
        "class FastRCNN(nn.Module):\n",
        "\n",
        "    def __init__(self) -> None:\n",
        "        super().__init__()\n",
        "        self.dropout=0.5\n",
        "\n",
        "        self.conv1 = nn.Conv2d(1024, 128, kernel_size=1)\n",
        "\n",
        "        self.roi_pool = RoIPool(output_size=(7, 7), spatial_scale=0.0625)\n",
        "        #self.conv = self._prepare_vgg16()\n",
        "        self.conv = self._prepare_resnet50()\n",
        "\n",
        "        self.fc = nn.Sequential(\n",
        "            nn.Linear(in_features=128 * 7 * 7, out_features=6272),\n",
        "            nn.LayerNorm([6272]),\n",
        "            nn.ReLU(True),\n",
        "            nn.Dropout(p=self.dropout),\n",
        "        )\n",
        "\n",
        "        self.classifier = nn.Linear(in_features=6272, out_features=n_classes + 1)\n",
        "        self.bbox_regressor = nn.Linear(in_features=6272, out_features=4)\n",
        "        \n",
        "\n",
        "        #register_hooks(self)\n",
        "\n",
        "    def _prepare_vgg16(self, weights: Optional[VGG16_Weights] = None) -> nn.Module:\n",
        "        vgg16 = models.vgg16(weights)\n",
        "        #vgg16 = vgg16.to(DEVICE)\n",
        "\n",
        "        # Replace the existing forward method\n",
        "        vgg16.forward = lambda x: new_forward_vgg(vgg16, x)\n",
        "\n",
        "        vgg16.features[-1] = nn.Identity()\n",
        "        vgg16.avgpool = nn.Identity()\n",
        "        vgg16.classifier = nn.Identity()\n",
        "\n",
        "        return vgg16\n",
        "    \n",
        "    def _prepare_resnet50(self, weights: Optional[VGG16_Weights] = None) -> nn.Module:\n",
        "        resnet50 = models.resnet50(weights=ResNet50_Weights.IMAGENET1K_V2)\n",
        "        # Remove the fully connected layer and average pooling layer at the end\n",
        "        resnet50.forward = lambda x: new_forward_resnet(resnet50, x)\n",
        "        return resnet50\n",
        "\n",
        "    def forward(self, x):\n",
        "        # Model input: tuple of 1. single image tensor 2. BoundingBoxes tensor of region proposal ROIs\n",
        "\n",
        "        img, rois = x\n",
        "        \n",
        "        rois = convert_rois(rois)\n",
        "        \n",
        "        fmap = self.conv(img)\n",
        "        fmap = self.conv1(fmap)\n",
        "\n",
        "\n",
        "        windows = self.roi_pool(fmap, rois=rois)\n",
        "        windows = torch.flatten(windows, start_dim=1)\n",
        "        windows = self.fc(windows)\n",
        "\n",
        "        pred_classes = self.classifier(windows)\n",
        "        pred_bboxes = self.bbox_regressor(windows)\n",
        "\n",
        "        return pred_classes, pred_bboxes"
      ]
    },
    {
      "cell_type": "markdown",
      "metadata": {},
      "source": [
        "# Class weights"
      ]
    },
    {
      "cell_type": "code",
      "execution_count": 16,
      "metadata": {
        "id": "KUpO6rSaQ1cS"
      },
      "outputs": [],
      "source": [
        "TRAIN_ROI_PROPOSALS = 64\n",
        "BIG_IOU_THRESHOLD = 0.25"
      ]
    },
    {
      "cell_type": "code",
      "execution_count": 17,
      "metadata": {
        "colab": {
          "base_uri": "https://localhost:8080/",
          "height": 87
        },
        "id": "W4pghFgdQ1cR",
        "outputId": "6a7386de-fc45-484e-949f-da14c2a0e1fd"
      },
      "outputs": [
        {
          "name": "stdout",
          "output_type": "stream",
          "text": [
            "Class counts: {'Car': 8297, 'Van': 881, 'Truck': 343, 'Pedestrian': 1034, 'Person_sitting': 44, 'Cyclist': 374, 'Tram': 140, 'Misc': 251, 'DontCare': 0}\n",
            "{'Car': 0.0001205254911413764, 'Van': 0.0011350737797956867, 'Truck': 0.0029154518950437317, 'Pedestrian': 0.0009671179883945841, 'Person_sitting': 0.022727272727272728, 'Cyclist': 0.00267379679144385, 'Tram': 0.007142857142857143, 'Misc': 0.00398406374501992, 'DontCare': 0.0, 'background': 0.020833333333333332}\n"
          ]
        }
      ],
      "source": [
        "# Calculating class weights\n",
        "# Calculating weights as inverse ratio of count\n",
        "# Also since we will add\n",
        "print(f'Class counts: {class_counts}')\n",
        "classification_weights = class_counts.copy()\n",
        "n_objects = sum(list(class_counts.values()))\n",
        "\n",
        "for key, value in classification_weights.items():\n",
        "    classification_weights[key] = classification_weights[key] * (16 / n_objects) \n",
        "    if value:\n",
        "        classification_weights[key] = 1 / value\n",
        "\n",
        "classification_weights['background'] = 1 / (TRAIN_ROI_PROPOSALS - (TRAIN_ROI_PROPOSALS * BIG_IOU_THRESHOLD))\n",
        "\n",
        "print(classification_weights)"
      ]
    },
    {
      "cell_type": "markdown",
      "metadata": {},
      "source": [
        "# Generating proposals"
      ]
    },
    {
      "cell_type": "code",
      "execution_count": 18,
      "metadata": {
        "id": "Ka5Uzk4cQ1cT"
      },
      "outputs": [],
      "source": [
        "def restore_encoding(tensor: torch.Tensor) -> torch.Tensor:\n",
        "    new_tensor = torch.Tensor().to(DEVICE)\n",
        "    for element in tensor:\n",
        "        if element == 0:\n",
        "          element = element + 1\n",
        "        new_row = torch.tensor(element-1).unsqueeze(0)\n",
        "        new_row = new_row.to(DEVICE)\n",
        "        new_tensor = torch.cat([new_tensor, new_row], dim=0)\n",
        "\n",
        "    new_tensor = new_tensor.to(dtype=torch.int32, device=DEVICE)\n",
        "\n",
        "    return new_tensor"
      ]
    },
    {
      "cell_type": "code",
      "execution_count": 19,
      "metadata": {
        "id": "Wmd6skf3Q1cS"
      },
      "outputs": [],
      "source": [
        "def convert_tensor_to_cv2(tensor: Tensor) -> np.array:\n",
        "    numpy_image = tensor.numpy(force=True) # force=True if on GPU\n",
        "    # Detaches tensor and returns numpy\n",
        "\n",
        "    # CHW -> HWC\n",
        "    cv2_image = np.transpose(numpy_image, (1, 2, 0))\n",
        "\n",
        "    # Convert color space: RGB -> BGR\n",
        "    cv2_image = cv2.cvtColor(cv2_image, cv2.COLOR_RGB2BGR)\n",
        "\n",
        "    return cv2_image\n",
        "\n",
        "def generate_roi_proposals(img: torch.Tensor, loaded_rois = None, idx = None) -> BoundingBoxes:\n",
        "    # If pre loaded RoI proposals exist, then we load them from there\n",
        "    if loaded_rois:\n",
        "        proposal_tensor = loaded_rois[idx].to(DEVICE)\n",
        "        return proposal_tensor\n",
        "    \n",
        "    # Convert image from tensor to opencv format.\n",
        "    cv2_image = convert_tensor_to_cv2(img)\n",
        "\n",
        "\n",
        "    ss = cv2.ximgproc.segmentation.createSelectiveSearchSegmentation()\n",
        "    ss.setBaseImage(cv2_image)\n",
        "    ss.switchToSelectiveSearchFast() #Other option is fast, but less accurate\n",
        "    rects = ss.process() # rects is a np array containing [x, y, w, h] numpy arrays\n",
        "\n",
        "    #print(f'Number of generated RoIs is: {len(rects)}')\n",
        "\n",
        "    boxes = [(float(rect[0]), float(rect[1]), float(rect[0]+rect[2]), float(rect[1]+rect[3])) for rect in rects] # convert to the consistent XYXY format\n",
        "    boxes = torch.tensor(boxes, device=DEVICE) \n",
        "\n",
        "    return boxes"
      ]
    },
    {
      "cell_type": "code",
      "execution_count": 20,
      "metadata": {},
      "outputs": [],
      "source": [
        "def getIoUProposals(ious: torch.Tensor, roi_proposals: torch.Tensor) -> tuple[torch.Tensor, torch.Tensor, torch.Tensor, torch.Tensor]:\n",
        "    max_n_real_proposals = int(TRAIN_ROI_PROPOSALS * BIG_IOU_THRESHOLD)\n",
        "\n",
        "    # Getting the max IoU for every RoI\n",
        "    max_ious, gt_indices = ious.max(dim=1)\n",
        "\n",
        "    # Getting the number of real RoI-s \n",
        "    num_gte_real_threshold = (max_ious >= 0.5).sum().item()\n",
        "    \n",
        "    # Getting the number of background RoIs\n",
        "    n_real_proposals = min(max_n_real_proposals, num_gte_real_threshold)\n",
        "    n_background_proposals = TRAIN_ROI_PROPOSALS - n_real_proposals\n",
        "\n",
        "    # Sorting the values and getting the indices\n",
        "    sorted_indices_for_iou_value = torch.argsort(max_ious, descending=True)\n",
        "\n",
        "    real_indices_for_iou_value = sorted_indices_for_iou_value[:n_real_proposals]\n",
        "    background_indices_for_iou_value = sorted_indices_for_iou_value[num_gte_real_threshold : num_gte_real_threshold + n_background_proposals]\n",
        "\n",
        "    real_rois = roi_proposals[real_indices_for_iou_value]\n",
        "    background_rois = roi_proposals[background_indices_for_iou_value]\n",
        "\n",
        "    real_gts = gt_indices[real_indices_for_iou_value]\n",
        "\n",
        "    # Dont need since these will be considered background\n",
        "    background_gts = gt_indices[background_indices_for_iou_value]\n",
        "\n",
        "    # Returns the RoIs with more than 0.5 IoU (max 16) --> shape [n_real_proposals, 4]\n",
        "    # Returns the RoIs woth less then 0.5 IoU (max 64 - ...) --> shape [n_background_proposals, 4]\n",
        "    # Returns the indices of the ground truth corresponding to the real RoIs (So which one is the corresponding object on the picture)\n",
        "    return real_rois, background_rois, real_gts, background_gts"
      ]
    },
    {
      "cell_type": "code",
      "execution_count": 21,
      "metadata": {
        "id": "siu0v_VlQ1cS"
      },
      "outputs": [],
      "source": [
        "def calculate_target_bbox_correction(roi_bboxes: BoundingBoxes, gt_bboxes: BoundingBoxes) -> torch.Tensor:\n",
        "\n",
        "    assert roi_bboxes.shape[0] == gt_bboxes.shape[0]\n",
        "    correction_vectors = torch.Tensor().to(DEVICE)\n",
        "\n",
        "    for i in range(roi_bboxes.shape[0]):\n",
        "        gx, gy, gx2, gy2 = gt_bboxes[i]\n",
        "        gw = gx + gx2\n",
        "        gh = gy + gy2\n",
        "\n",
        "        px, py, px2, py2 = roi_bboxes[i]\n",
        "        pw = px + px2\n",
        "        ph = py + py2\n",
        "\n",
        "        tx = (gx - px) / pw\n",
        "        ty = (gy - py) / ph\n",
        "        tw = torch.log(gw / pw)\n",
        "        th = torch.log(gh / ph)\n",
        "        transform_tensor = torch.Tensor((tx, ty, tw, th)).unsqueeze(0)\n",
        "        transform_tensor = transform_tensor.to(DEVICE)\n",
        "\n",
        "        correction_vectors = torch.cat([correction_vectors, transform_tensor], dim=0)\n",
        "        correction_vectors = correction_vectors.to(DEVICE)\n",
        "\n",
        "    return correction_vectors"
      ]
    },
    {
      "cell_type": "code",
      "execution_count": 22,
      "metadata": {
        "id": "FF7f3Nn8Q1cT"
      },
      "outputs": [],
      "source": [
        "def get_target_classes(labels: torch.Tensor, gt_indices: torch.Tensor) -> torch.Tensor:\n",
        "    gt_target_labels = torch.Tensor().to(device=DEVICE)\n",
        "    \n",
        "    for idx in gt_indices:\n",
        "        # Adding one to so 0 is background\n",
        "        class_id = labels[idx] + 1\n",
        "\n",
        "        # Concatenate the existing tensor with the new element\n",
        "        gt_target_labels = torch.cat((gt_target_labels, torch.tensor(class_id).unsqueeze(0)), dim=0)\n",
        "\n",
        "    gt_target_labels = gt_target_labels.to(dtype=torch.int32)\n",
        "\n",
        "    return gt_target_labels"
      ]
    },
    {
      "cell_type": "code",
      "execution_count": 23,
      "metadata": {
        "id": "XY_yyiuvQ1cT"
      },
      "outputs": [],
      "source": [
        "def generate_training_samples(ground_truth: DataSample, saved_rois = None, idx= None) -> tuple[torch.Tensor, torch.Tensor, torch.Tensor, torch.Tensor, torch.Tensor]:\n",
        "    # input: DataSample containing image and ground truth labels\n",
        "    # output: tuple of 1. ROI proposals 2. target classes 3. target bounding box corrections 4. all roi boxes 5. real roi boxes\n",
        "    #         ROI proposals should be a List[Tensor] where the Tensore's shape is (1,4)\n",
        "    #         each are tensors of shape (TRAINING_ROI_PROPOSALS, ...)\n",
        "    img = ground_truth[0]\n",
        "    boxes = ground_truth[1].get('boxes')\n",
        "    labels = ground_truth[1].get('labels')\n",
        "\n",
        "    if not boxes.shape[0]:\n",
        "        # There are no objects on the picture \n",
        "        return None, None, None, None, None\n",
        "    \n",
        "    img = img.to(DEVICE)\n",
        "    boxes = boxes.to(DEVICE)\n",
        "    labels = labels.to(DEVICE)\n",
        "  \n",
        "    roi_proposals = generate_roi_proposals(img, saved_rois, idx)\n",
        "\n",
        "    # Get the IoU of proposals and ground thruthes\n",
        "    # The returned shape of tensor is [n_proposals, n_gt]   \n",
        "    ious = box_iou(roi_proposals, boxes)\n",
        "\n",
        "    real_roi_proposals, background_roi_proposals, real_gts, background_gts  = getIoUProposals(ious, roi_proposals)\n",
        "\n",
        "    if real_roi_proposals.nelement() == 0:\n",
        "       return None, None, None, None, None\n",
        "\n",
        "    # Concat the roi proposals\n",
        "    roi_proposals = torch.cat([real_roi_proposals, background_roi_proposals], dim=0)\n",
        "\n",
        "    # Get the target classes\n",
        "    real_target_classes = get_target_classes(labels, real_gts)\n",
        "    background_target_classes = torch.zeros(background_roi_proposals.shape[0], dtype=torch.int32, device=DEVICE)\n",
        "\n",
        "    target_classes = torch.cat([real_target_classes, background_target_classes], dim=0)\n",
        "\n",
        "    # Calculate the bounding box corrections. Only for the real bboxes, the others are not calculated in the loss\n",
        "    if not real_gts.nelement() == 0:\n",
        "      real_gt_bboxes_for_rois = [boxes[idx] for idx in real_gts]\n",
        "      real_gt_bboxes_for_rois = torch.stack(real_gt_bboxes_for_rois)\n",
        "      real_gt_bboxes_for_rois = real_gt_bboxes_for_rois.to(DEVICE)\n",
        "    else:\n",
        "       real_gt_bboxes_for_rois = torch.Tensor().to(device=DEVICE)\n",
        "\n",
        "    if not background_gts.nelement() == 0:\n",
        "      background_gt_bboxes_for_rois = [boxes[idx] for idx in background_gts]\n",
        "      background_gt_bboxes_for_rois = torch.stack(background_gt_bboxes_for_rois)\n",
        "      background_gt_bboxes_for_rois = background_gt_bboxes_for_rois.to(DEVICE)\n",
        "    else:\n",
        "       background_gt_bboxes_for_rois = torch.Tensor().to(device=DEVICE)\n",
        "\n",
        "    real_target_bbox_correction = calculate_target_bbox_correction(real_roi_proposals, real_gt_bboxes_for_rois)\n",
        "    background_target_bbox_correction = calculate_target_bbox_correction(background_roi_proposals, background_gt_bboxes_for_rois)\n",
        "\n",
        "    target_bbox_correction = torch.zeros(TRAIN_ROI_PROPOSALS, 4, device=DEVICE)\n",
        "\n",
        "    if not real_target_classes.nelement() == 0:\n",
        "      target_bbox_correction[:real_target_classes.shape[0], :] = real_target_bbox_correction\n",
        "    target_bbox_correction[real_target_classes.shape[0]:, :] = background_target_bbox_correction\n",
        "\n",
        "\n",
        "    if not real_roi_proposals.shape[0] + background_roi_proposals.shape[0] == TRAIN_ROI_PROPOSALS:\n",
        "      print('THERE ARE NOT ENOUGH PROPOSALS, which is a big problem...')\n",
        "\n",
        "    return roi_proposals, target_classes, target_bbox_correction, roi_proposals, real_roi_proposals "
      ]
    },
    {
      "cell_type": "markdown",
      "metadata": {},
      "source": [
        "# Testing training"
      ]
    },
    {
      "cell_type": "code",
      "execution_count": 24,
      "metadata": {},
      "outputs": [
        {
          "data": {
            "text/plain": [
              "\"\\ncount_none = 0\\ncount_less = 0\\ncount_correct = 0\\n\\nfor idx, sample in enumerate(data_loader):\\n\\n    img = sample[0]\\n    boxes = sample[1].get('boxes')\\n    labels = sample[1].get('labels')\\n\\n    roi_proposals, target_classes, target_bbox_correction, roi_proposals, real_roi_proposals = generate_training_samples(sample, train_rois, 0)\\n\\n    if roi_proposals == None:\\n        count_none += 1\\n    elif real_roi_proposals.shape[0] < 8:\\n        count_less += 1\\n    else:\\n        count_correct += 1\\n\\n    print(f'Iteration: {idx+1}', end='\\r')\\n\\n\\nprint(f'None: {count_none}')\\nprint(f'Less: {count_less}')\\nprint(f'Correct: {count_correct}')\\n\""
            ]
          },
          "execution_count": 24,
          "metadata": {},
          "output_type": "execute_result"
        }
      ],
      "source": [
        "\"\"\"\n",
        "count_none = 0\n",
        "count_less = 0\n",
        "count_correct = 0\n",
        "\n",
        "for idx, sample in enumerate(data_loader):\n",
        "\n",
        "    img = sample[0]\n",
        "    boxes = sample[1].get('boxes')\n",
        "    labels = sample[1].get('labels')\n",
        "\n",
        "    roi_proposals, target_classes, target_bbox_correction, roi_proposals, real_roi_proposals = generate_training_samples(sample, train_rois, 0)\n",
        "\n",
        "    if roi_proposals == None:\n",
        "        count_none += 1\n",
        "    elif real_roi_proposals.shape[0] < 8:\n",
        "        count_less += 1\n",
        "    else:\n",
        "        count_correct += 1\n",
        "\n",
        "    print(f'Iteration: {idx+1}', end='\\r')\n",
        "\n",
        "\n",
        "print(f'None: {count_none}')\n",
        "print(f'Less: {count_less}')\n",
        "print(f'Correct: {count_correct}')\n",
        "\"\"\"\n"
      ]
    },
    {
      "cell_type": "markdown",
      "metadata": {},
      "source": [
        "# Loss calculation"
      ]
    },
    {
      "cell_type": "code",
      "execution_count": 25,
      "metadata": {
        "id": "SDx5tmmDQ1cU"
      },
      "outputs": [],
      "source": [
        "# See 2.1 / Multi task loss\n",
        "\n",
        "class MultiTaskLoss(nn.Module):\n",
        "\n",
        "   def __init__(self, classification_weights = None, lmbd : Optional[float] = 1.0) -> None:\n",
        "      super().__init__()\n",
        "      self.classification_weights = classification_weights\n",
        "      self.lmbd = lmbd\n",
        "\n",
        "\n",
        "   def forward(self, input: tuple[torch.Tensor, torch.Tensor], target: tuple[torch.Tensor, torch.Tensor]):\n",
        "      input_class, input_bbox = input\n",
        "      target_class, target_bbox = target\n",
        "\n",
        "      c = torch.where(target_class < 1, 0.0, 1.0)\n",
        "      real_all_ratio = (c.sum() / TRAIN_ROI_PROPOSALS)\n",
        "      c = c.unsqueeze(1)\n",
        "\n",
        "      target_class_clone = target_class.clone()\n",
        "      target_class_clone = target_class_clone.type(torch.long)\n",
        "\n",
        "\n",
        "      if not classification_weights == None:\n",
        "         classification_weights_clone = torch.tensor(list(classification_weights.values())).to(DEVICE)\n",
        "\n",
        "         classification_weights_clone[0] = classification_weights_clone[0] * real_all_ratio\n",
        "         for i in range(1, len(classification_weights_clone)):\n",
        "            classification_weights_clone[i] = classification_weights_clone[i] * (1 - real_all_ratio)\n",
        "\n",
        "      cls_loss = nn.functional.cross_entropy(input_class, target_class_clone, weight=classification_weights_clone)\n",
        "      #print(f'Cross entropy loss: {cls_loss}')\n",
        "\n",
        "      assert not math.isnan(cls_loss)\n",
        "\n",
        "      smooth_loss = nn.SmoothL1Loss(reduction='none')\n",
        "\n",
        "      loc_loss = smooth_loss(input_bbox, target_bbox)\n",
        "      loc_loss = loc_loss.sum(dim=1).unsqueeze(1)\n",
        "      loc_loss = c * loc_loss\n",
        "      loc_loss = loc_loss.sum()\n",
        "\n",
        "      return cls_loss + self.lmbd * loc_loss"
      ]
    },
    {
      "cell_type": "markdown",
      "metadata": {},
      "source": [
        "# Model training"
      ]
    },
    {
      "cell_type": "code",
      "execution_count": 26,
      "metadata": {
        "id": "zRHxXl0EQ1cU"
      },
      "outputs": [],
      "source": [
        "def train_model(model: nn.Module,\n",
        "                train_loader: DataLoader,\n",
        "                valid_loader: DataLoader,\n",
        "                batch_size: int,\n",
        "                loss_fn: nn.Module,\n",
        "                optimizer: optim.Optimizer,\n",
        "                scheduler: optim.lr_scheduler.LRScheduler,\n",
        "                epochs: int,\n",
        "                patience: int,\n",
        "                device: torch.device,\n",
        "                train_rois: Optional[str] = None,\n",
        "                valid_rois: Optional[str] = None):\n",
        "\n",
        "    n_train_samples = len(train_loader.dataset)\n",
        "    n_valid_samples = len(valid_loader.dataset)\n",
        "\n",
        "    noobj_counter = 0\n",
        "\n",
        "    best_val_loss = float('inf')\n",
        "    patience_threshold = patience\n",
        "    patience_counter = patience_threshold\n",
        "\n",
        "    model.to(device)\n",
        "\n",
        "    for epoch in range(epochs):\n",
        "        # train\n",
        "        n_train_batches = len(train_loader)\n",
        "        model = model.train()\n",
        "        train_loss = 0.0\n",
        "        for idx, sample in enumerate(train_loader):\n",
        "            if (not torch.numel(sample[1].get('labels'))):\n",
        "                noobj_counter += 1\n",
        "                print(f'[{epoch + 1:>2}/{epochs}]: Sample does not have an object: {noobj_counter}/{idx}', end='\\r')\n",
        "                continue\n",
        "\n",
        "            if idx >= len(train_rois):\n",
        "                break\n",
        "            \n",
        "            img = sample[0]\n",
        "            img = img.to(DEVICE)\n",
        "            \n",
        "            new_img_shape = (batch_size,) + img.shape\n",
        "            img = img.expand(new_img_shape)\n",
        "            #print(f'img device: {img.device}')\n",
        "\n",
        "            roi, target_class, target_bbox_corr, a, b = generate_training_samples(sample, train_rois, idx)\n",
        "\n",
        "            if roi is None:\n",
        "                continue\n",
        "\n",
        "            X = (img, roi)\n",
        "            Y = (target_class, target_bbox_corr)\n",
        "\n",
        "            pred = model(X)\n",
        "\n",
        "            loss = loss_fn(pred, Y)\n",
        "            \n",
        "            # Backpropagation\n",
        "            loss.backward()\n",
        "\n",
        "            # Gradient Clipping\n",
        "            clip_grad_norm_(model.parameters(), max_norm=0.5)\n",
        "\n",
        "            optimizer.step()\n",
        "            optimizer.zero_grad()\n",
        "\n",
        "            train_loss += loss.item()\n",
        "            torch.cuda.empty_cache()\n",
        "            print(f'[{epoch + 1:>2}/{epochs}]: train_loss={loss:>5f}  [{idx:>5d}/{n_train_samples:>5d}]', end='\\r')\n",
        "\n",
        "        train_loss /= n_train_batches\n",
        "\n",
        "        scheduler.step()\n",
        "\n",
        "\n",
        "        # validate\n",
        "        n_valid_batches = len(valid_loader)\n",
        "        model.eval()\n",
        "        val_loss = 0.0\n",
        "        with torch.no_grad():\n",
        "            for idx, sample in enumerate(valid_loader):\n",
        "                if (not torch.numel(sample[1].get('labels'))):\n",
        "                    continue\n",
        "\n",
        "                if idx >= len(valid_rois):\n",
        "                    break\n",
        "\n",
        "                img = sample[0]\n",
        "                img = img.to(DEVICE)\n",
        "                \n",
        "                new_img_shape = (batch_size,) + img.shape\n",
        "                img = img.expand(new_img_shape)\n",
        "\n",
        "                roi, target_class, target_bbox_corr, a, b = generate_training_samples(sample, valid_rois, idx)\n",
        "\n",
        "                if roi is None:\n",
        "                    continue\n",
        "\n",
        "                X = (img, roi)\n",
        "                Y = (target_class, target_bbox_corr)\n",
        "\n",
        "                pred = model(X)\n",
        "                loss = loss_fn(pred, Y)\n",
        "\n",
        "                val_loss += loss.item()\n",
        "                torch.cuda.empty_cache()\n",
        "                print(f'[{epoch + 1:>2}/{epochs}]: val_loss={loss:>5f}  [{idx:>5d}/{n_valid_samples:>5d}]', end='\\r')\n",
        "\n",
        "        val_loss /= n_valid_batches\n",
        "        print(f'[{epoch + 1:>2}/{epochs}]: {train_loss=:5f} {val_loss=:5.5f}')\n",
        "\n",
        "        patience_counter -= 1\n",
        "\n",
        "        # Implementing early stopping\n",
        "        if val_loss < best_val_loss:\n",
        "            best_val_loss = val_loss\n",
        "            patience_counter = patience_threshold\n",
        "\n",
        "            # Saving the model with the best validation loss\n",
        "            torch.save(model.state_dict(), 'best_model.pth')\n",
        "\n",
        "        if patience_counter == 0:\n",
        "            print(\"Early stop to prevent model from overfitting\")\n",
        "            break\n",
        "\n",
        "    print(f'Validation loss: {best_val_loss}')\n",
        "\n",
        "\n"
      ]
    },
    {
      "cell_type": "code",
      "execution_count": 27,
      "metadata": {},
      "outputs": [],
      "source": [
        "train_loader = data_loader\n",
        "valid_loader = valid_loader\n",
        "\n",
        "train_rois = torch.load('roi_proposals_list_train.pt')\n",
        "valid_rois = torch.load('roi_proposals_list_valid.pt')"
      ]
    },
    {
      "cell_type": "code",
      "execution_count": 28,
      "metadata": {
        "colab": {
          "base_uri": "https://localhost:8080/"
        },
        "id": "3OwrvArlQ1cU",
        "outputId": "60ae7191-d575-4fb2-95e5-6e8ae1288587"
      },
      "outputs": [
        {
          "name": "stderr",
          "output_type": "stream",
          "text": [
            "/tmp/ipykernel_560202/1189844371.py:9: UserWarning: To copy construct from a tensor, it is recommended to use sourceTensor.clone().detach() or sourceTensor.clone().detach().requires_grad_(True), rather than torch.tensor(sourceTensor).\n",
            "  gt_target_labels = torch.cat((gt_target_labels, torch.tensor(class_id).unsqueeze(0)), dim=0)\n"
          ]
        },
        {
          "name": "stdout",
          "output_type": "stream",
          "text": [
            "[ 1/6]: train_loss=1.121968 val_loss=0.74862197\n",
            "[ 2/6]: train_loss=0.659698 val_loss=0.63482197\n",
            "[ 3/6]: train_loss=0.560939 val_loss=0.63940197\n",
            "[ 4/6]: train_loss=0.485586 val_loss=0.66252197\n",
            "[ 5/6]: train_loss=0.430779 val_loss=0.64664197\n",
            "Early stop to prevent model from overfitting\n",
            "Validation loss: 0.63481538926057\n"
          ]
        }
      ],
      "source": [
        "model = FastRCNN()\n",
        "\n",
        "batch_size = 1\n",
        "loss_fn = MultiTaskLoss(classification_weights)\n",
        "optimizer = optim.Adam(model.parameters(), lr=0.0001, eps=1e-10, weight_decay=2e-4, amsgrad=True)\n",
        "scheduler = StepLR(optimizer, step_size=10, gamma=0.1)\n",
        "\n",
        "epochs = 6\n",
        "patience = 3\n",
        "device = DEVICE\n",
        "\n",
        "\n",
        "train_model(model, train_loader, valid_loader, batch_size, loss_fn, optimizer, scheduler, epochs, patience, device, train_rois, valid_rois)"
      ]
    },
    {
      "cell_type": "code",
      "execution_count": 29,
      "metadata": {},
      "outputs": [
        {
          "name": "stdout",
          "output_type": "stream",
          "text": [
            "5219\n",
            "5237\n",
            "1120\n",
            "1122\n"
          ]
        }
      ],
      "source": [
        "print(len(train_rois))\n",
        "print(len(train_loader))\n",
        "\n",
        "print(len(valid_rois))\n",
        "print(len(valid_loader))\n"
      ]
    },
    {
      "cell_type": "code",
      "execution_count": 30,
      "metadata": {
        "id": "IjNvDCwiYmLu"
      },
      "outputs": [
        {
          "data": {
            "image/png": "[encoded data removed]",
            "text/plain": [
              "<Figure size 1320x1200 with 4 Axes>"
            ]
          },
          "metadata": {},
          "output_type": "display_data"
        }
      ],
      "source": [
        "test_sample = None\n",
        "\n",
        "for idx, element in enumerate(data_loader):\n",
        "  if idx == 8:\n",
        "     test_sample = element\n",
        "     break\n",
        "\n",
        "display_samples_h([next(iter(data_loader)) for _ in range(4)])"
      ]
    },
    {
      "cell_type": "markdown",
      "metadata": {},
      "source": [
        "# Test the model"
      ]
    },
    {
      "cell_type": "code",
      "execution_count": 31,
      "metadata": {},
      "outputs": [
        {
          "name": "stderr",
          "output_type": "stream",
          "text": [
            "/usr/lib/python3/dist-packages/pkg_resources/__init__.py:116: PkgResourcesDeprecationWarning: 1.1build1 is an invalid version and will not be supported in a future release\n",
            "  warnings.warn(\n"
          ]
        }
      ],
      "source": [
        "from sklearn.decomposition import TruncatedSVD\n",
        "from torchmetrics.detection.mean_ap import MeanAveragePrecision\n",
        "from torch.nn.functional import softmax\n",
        "from torchvision.ops import nms\n",
        "from pprint import pprint"
      ]
    },
    {
      "cell_type": "code",
      "execution_count": 32,
      "metadata": {},
      "outputs": [],
      "source": [
        "def score_image(target_boxes: torch.Tensor,\n",
        "                target_labels: torch.Tensor,\n",
        "                pred_boxes: torch.Tensor,\n",
        "                pred_class: torch.Tensor,\n",
        "                pred_label: torch.Tensor,\n",
        "                mAP: MeanAveragePrecision):\n",
        "\n",
        "    mAP_pred_dict = dict.fromkeys(['boxes', 'scores', 'labels'], None)\n",
        "    mAP_target_dict = dict.fromkeys(['boxes', 'labels'], None)\n",
        "\n",
        "    mAP_target_dict['boxes'] = target_boxes.to(dtype=torch.float)\n",
        "    mAP_target_dict['labels'] = target_labels.to(dtype=torch.int)\n",
        "\n",
        "    mAP_pred_dict['boxes'] = pred_boxes.to(dtype=torch.float)\n",
        "    mAP_pred_dict['scores'] = pred_class.to(dtype=torch.float)\n",
        "    mAP_pred_dict['labels'] = pred_label.to(dtype=torch.int)\n",
        "\n",
        "    \n",
        "    mAP.update([mAP_pred_dict], [mAP_target_dict])"
      ]
    },
    {
      "cell_type": "code",
      "execution_count": 33,
      "metadata": {},
      "outputs": [],
      "source": [
        "def test_model(model: nn.Module,\n",
        "                test_loader: DataLoader,\n",
        "                batch_size: int,\n",
        "                mAP: MeanAveragePrecision,\n",
        "                device: torch.device,\n",
        "                test_rois = None):\n",
        "    \n",
        "    model.to(device)\n",
        "    \n",
        "    # Iterating through the images and generating the predicted bounding boxes\n",
        "    model.eval()\n",
        "    with torch.no_grad():\n",
        "        for idx, sample in enumerate(test_loader):\n",
        "            if (not torch.numel(sample[1].get('labels'))):\n",
        "                continue\n",
        "\n",
        "            if idx >= len(test_rois):\n",
        "                break\n",
        "            \n",
        "            img = sample[0]\n",
        "            img = img.to(DEVICE)\n",
        "            \n",
        "            new_img_shape = (batch_size,) + img.shape\n",
        "            img = img.expand(new_img_shape)\n",
        "\n",
        "            roi, target_class, target_bbox_corr, roi_boxes, real_roi_boxes = generate_training_samples(sample, test_rois, idx)\n",
        "\n",
        "            if roi is None:\n",
        "                continue\n",
        "\n",
        "            X = (img, roi)\n",
        "            Y = (target_class, target_bbox_corr)\n",
        "\n",
        "            pred = model(X)\n",
        "\n",
        "            # Important values\n",
        "            target_boxes = sample[1].get('boxes').to(DEVICE)\n",
        "            target_labels = sample[1].get('labels').to(DEVICE)\n",
        "            target_labels += 1\n",
        "\n",
        "            pred_class, pred_bbox = pred\n",
        "            \n",
        "            pred_class = softmax(pred_class, dim=1)\n",
        "            conf_score, pred_label = torch.max(pred_class, dim=1)\n",
        "            pred_boxes = roi_boxes \n",
        "            pred_real_boxes = real_roi_boxes\n",
        "            pred_real_labels = pred_label[:pred_real_boxes.shape[0]]\n",
        "            pred_real_class = pred_class[:pred_real_boxes.shape[0]]\n",
        "\n",
        "            # Do Non-Maximal suppression\n",
        "            nms_indices = nms(pred_real_boxes, pred_real_labels, iou_threshold=0.5)\n",
        "\n",
        "            pred_real_boxes = pred_real_boxes[nms_indices]\n",
        "            pred_real_labels = pred_real_labels[nms_indices]\n",
        "            pred_real_class = pred_real_class[nms_indices]\n",
        "            \n",
        "            # Lets check what to do with\n",
        "            score_image(target_boxes, target_labels, pred_real_boxes, pred_real_class, pred_real_labels, mAP)\n",
        "\n",
        "            \n",
        "            # Display the test result\n",
        "            #display_one(img, pred_real_boxes, pred_real_labels)\n",
        "\n",
        "            torch.cuda.empty_cache()\n",
        "            print(f'Done with image number {idx+1}', end='\\r')\n",
        "\n",
        "\n",
        "    # Compute the final mAP score\n",
        "    final_mAP = mAP.compute().item()\n",
        "    print(f\"Final mAP Score: {final_mAP}\")\n",
        "\n",
        "    return"
      ]
    },
    {
      "cell_type": "code",
      "execution_count": 34,
      "metadata": {
        "id": "zPz-Br3SpeQf"
      },
      "outputs": [],
      "source": [
        "# Truncated SVD\n",
        "# Example function to find an appropriate rank\n",
        "def find_rank(W, explained_variance_threshold=0.95):\n",
        "    svd = TruncatedSVD(n_components=min(W.shape) - 1)\n",
        "    svd.fit(W)\n",
        "    cumulative_variance = np.cumsum(svd.explained_variance_ratio_)\n",
        "    rank = np.searchsorted(cumulative_variance, explained_variance_threshold) + 1\n",
        "    return rank\n",
        "\n",
        "# Function to apply Truncated SVD to a single layer\n",
        "def apply_truncated_svd(layer, explained_variance_threshold=0.95):\n",
        "    if isinstance(layer, nn.Linear):\n",
        "        W = layer.weight.data.cpu().numpy()\n",
        "        bias = layer.bias.data.cpu().numpy() if layer.bias is not None else None\n",
        "        \n",
        "        rank = find_rank(W, explained_variance_threshold)\n",
        "        svd = TruncatedSVD(n_components=rank)\n",
        "        W_reduced = svd.fit_transform(W)\n",
        "        components = svd.components_\n",
        "        \n",
        "        new_layer1 = nn.Linear(W.shape[1], rank, bias=False)\n",
        "        new_layer2 = nn.Linear(rank, W.shape[0], bias=layer.bias is not None)\n",
        "        \n",
        "        new_layer1.weight.data = torch.tensor(W_reduced, dtype=torch.float32)\n",
        "        new_layer2.weight.data = torch.tensor(components, dtype=torch.float32)\n",
        "        \n",
        "        if layer.bias is not None:\n",
        "            new_layer2.bias.data = torch.tensor(bias, dtype=torch.float32)\n",
        "        \n",
        "        return nn.Sequential(new_layer1, new_layer2)\n",
        "    else:\n",
        "        return layer\n",
        "\n",
        "# Function to apply Truncated SVD to all layers in a model\n",
        "def apply_svd_to_model(model, explained_variance_threshold=0.95):\n",
        "    for name, module in model.named_children():\n",
        "        if isinstance(module, nn.Sequential):\n",
        "            new_module = nn.Sequential(*[apply_truncated_svd(layer, explained_variance_threshold) for layer in module])\n",
        "            setattr(model, name, new_module)\n",
        "        else:\n",
        "            new_module = apply_truncated_svd(module, explained_variance_threshold)\n",
        "            setattr(model, name, new_module)\n",
        "\n",
        "def count_parameters(model):\n",
        "    return sum(p.numel() for p in model.parameters())\n"
      ]
    },
    {
      "cell_type": "code",
      "execution_count": 35,
      "metadata": {},
      "outputs": [],
      "source": [
        "model = FastRCNN()\n",
        "model.load_state_dict(torch.load('best_model.pth'))\n",
        "apply_svd_to_model(model, 0.95)"
      ]
    },
    {
      "cell_type": "code",
      "execution_count": null,
      "metadata": {},
      "outputs": [],
      "source": [
        "del test"
      ]
    },
    {
      "cell_type": "code",
      "execution_count": 36,
      "metadata": {},
      "outputs": [
        {
          "ename": "ModuleNotFoundError",
          "evalue": "`MAP` metric requires that `pycocotools` or `faster-coco-eval` installed. Please install with `pip install pycocotools` or `pip install faster-coco-eval` or `pip install torchmetrics[detection]`.",
          "output_type": "error",
          "traceback": [
            "\u001b[0;31m---------------------------------------------------------------------------\u001b[0m",
            "\u001b[0;31mModuleNotFoundError\u001b[0m                       Traceback (most recent call last)",
            "Cell \u001b[0;32mIn[36], line 7\u001b[0m\n\u001b[1;32m      5\u001b[0m batch_size \u001b[38;5;241m=\u001b[39m \u001b[38;5;241m1\u001b[39m\n\u001b[1;32m      6\u001b[0m loss_fn \u001b[38;5;241m=\u001b[39m MultiTaskLoss(classification_weights)\n\u001b[0;32m----> 7\u001b[0m mAP \u001b[38;5;241m=\u001b[39m \u001b[43mMeanAveragePrecision\u001b[49m\u001b[43m(\u001b[49m\u001b[43m)\u001b[49m\n\u001b[1;32m      9\u001b[0m \u001b[38;5;66;03m# We have to call it with the best model, which is saved at ./best_model.pth\u001b[39;00m\n\u001b[1;32m     10\u001b[0m \n\u001b[1;32m     11\u001b[0m \u001b[38;5;66;03m# We can truncate the model with truncated SVD\u001b[39;00m\n\u001b[1;32m     12\u001b[0m test_model(model, test_loader, batch_size, mAP, DEVICE, test_rois)\n",
            "File \u001b[0;32m~/.local/lib/python3.10/site-packages/torchmetrics/detection/mean_ap.py:381\u001b[0m, in \u001b[0;36mMeanAveragePrecision.__init__\u001b[0;34m(self, box_format, iou_type, iou_thresholds, rec_thresholds, max_detection_thresholds, class_metrics, extended_summary, average, backend, **kwargs)\u001b[0m\n\u001b[1;32m    378\u001b[0m \u001b[38;5;28msuper\u001b[39m()\u001b[38;5;241m.\u001b[39m\u001b[38;5;21m__init__\u001b[39m(\u001b[38;5;241m*\u001b[39m\u001b[38;5;241m*\u001b[39mkwargs)\n\u001b[1;32m    380\u001b[0m \u001b[38;5;28;01mif\u001b[39;00m \u001b[38;5;129;01mnot\u001b[39;00m (_PYCOCOTOOLS_AVAILABLE \u001b[38;5;129;01mor\u001b[39;00m _FASTER_COCO_EVAL_AVAILABLE):\n\u001b[0;32m--> 381\u001b[0m     \u001b[38;5;28;01mraise\u001b[39;00m \u001b[38;5;167;01mModuleNotFoundError\u001b[39;00m(\n\u001b[1;32m    382\u001b[0m         \u001b[38;5;124m\"\u001b[39m\u001b[38;5;124m`MAP` metric requires that `pycocotools` or `faster-coco-eval` installed.\u001b[39m\u001b[38;5;124m\"\u001b[39m\n\u001b[1;32m    383\u001b[0m         \u001b[38;5;124m\"\u001b[39m\u001b[38;5;124m Please install with `pip install pycocotools` or `pip install faster-coco-eval` or\u001b[39m\u001b[38;5;124m\"\u001b[39m\n\u001b[1;32m    384\u001b[0m         \u001b[38;5;124m\"\u001b[39m\u001b[38;5;124m `pip install torchmetrics[detection]`.\u001b[39m\u001b[38;5;124m\"\u001b[39m\n\u001b[1;32m    385\u001b[0m     )\n\u001b[1;32m    386\u001b[0m \u001b[38;5;28;01mif\u001b[39;00m \u001b[38;5;129;01mnot\u001b[39;00m _TORCHVISION_GREATER_EQUAL_0_8:\n\u001b[1;32m    387\u001b[0m     \u001b[38;5;28;01mraise\u001b[39;00m \u001b[38;5;167;01mModuleNotFoundError\u001b[39;00m(\n\u001b[1;32m    388\u001b[0m         \u001b[38;5;124m\"\u001b[39m\u001b[38;5;124m`MeanAveragePrecision` metric requires that `torchvision` version 0.8.0 or newer is installed.\u001b[39m\u001b[38;5;124m\"\u001b[39m\n\u001b[1;32m    389\u001b[0m         \u001b[38;5;124m\"\u001b[39m\u001b[38;5;124m Please install with `pip install torchvision>=0.8` or `pip install torchmetrics[detection]`.\u001b[39m\u001b[38;5;124m\"\u001b[39m\n\u001b[1;32m    390\u001b[0m     )\n",
            "\u001b[0;31mModuleNotFoundError\u001b[0m: `MAP` metric requires that `pycocotools` or `faster-coco-eval` installed. Please install with `pip install pycocotools` or `pip install faster-coco-eval` or `pip install torchmetrics[detection]`."
          ]
        }
      ],
      "source": [
        "# Calling the test\n",
        "model = FastRCNN()\n",
        "save_path = \"best_model.pth\"\n",
        "test_rois = torch.load('roi_proposals_list_test.pt')\n",
        "batch_size = 1\n",
        "loss_fn = MultiTaskLoss(classification_weights)\n",
        "mAP = MeanAveragePrecision()\n",
        "\n",
        "# We have to call it with the best model, which is saved at ./best_model.pth\n",
        "\n",
        "# We can truncate the model with truncated SVD\n",
        "test_model(model, test_loader, batch_size, mAP, DEVICE, test_rois)"
      ]
    },
    {
      "cell_type": "code",
      "execution_count": null,
      "metadata": {},
      "outputs": [],
      "source": [
        "def display_results(idx: int, test_loader):\n",
        "    if (idx >= len(test_rois)) | (idx < 0):\n",
        "        print('Inadequate idx: {idx}')\n",
        "        return\n",
        "    \n",
        "    dataset = test_loader.dataset\n",
        "    sample = dataset[idx]\n",
        "\n",
        "    img = sample[0]\n",
        "    img = img.to(DEVICE)\n",
        "            \n",
        "    new_img_shape = (batch_size,) + img.shape\n",
        "    img = img.expand(new_img_shape)\n",
        "\n",
        "    roi, target_class, target_bbox_corr, roi_boxes, real_roi_boxes = generate_training_samples(sample, test_rois, idx)\n",
        "\n",
        "    if roi is None:\n",
        "        print('No region of intrest is generated')\n",
        "        return\n",
        "\n",
        "    X = (img, roi)\n",
        "    Y = (target_class, target_bbox_corr)\n",
        "\n",
        "    pred = model(X)\n",
        "\n",
        "    # Important values\n",
        "    target_boxes = sample[1].get('boxes').to(DEVICE)\n",
        "    target_labels = sample[1].get('labels').to(DEVICE)\n",
        "    target_labels += 1\n",
        "\n",
        "    pred_class, pred_bbox = pred\n",
        "    \n",
        "    pred_class = softmax(pred_class, dim=1)\n",
        "    conf_score, pred_label = torch.max(pred_class, dim=1)\n",
        "    pred_boxes = roi_boxes\n",
        "    pred_real_boxes = real_roi_boxes\n",
        "    pred_real_labels = pred_label[:pred_real_boxes.shape[0]]\n",
        "    pred_real_class = pred_class[:pred_real_boxes.shape[0]]\n",
        "\n",
        "    # Do Non-Maximal suppression\n",
        "    nms_indices = nms(pred_real_boxes, pred_real_labels, iou_threshold=0.5)\n",
        "\n",
        "    pred_real_boxes = pred_real_boxes[nms_indices]\n",
        "    pred_real_labels = pred_real_labels[nms_indices]\n",
        "    pred_real_class = pred_real_class[nms_indices]\n",
        "\n",
        "\n",
        "    # Display the test result\n",
        "    display_one(img, pred_real_boxes, pred_real_labels)\n",
        "\n",
        "    mAP = MeanAveragePrecision()\n",
        "    score_image(target_boxes, target_labels, pred_boxes, pred_class, pred_label, mAP)\n",
        "    \n",
        "    final_mAP = mAP.compute().item()\n",
        "    pprint(f\"Final mAP Score: {final_mAP}\")"
      ]
    },
    {
      "cell_type": "code",
      "execution_count": null,
      "metadata": {},
      "outputs": [],
      "source": [
        "for i in range(10):\n",
        "    display_results(i, test_loader)"
      ]
    },
    {
      "cell_type": "code",
      "execution_count": null,
      "metadata": {
        "id": "0mXabPWhQ1cV"
      },
      "outputs": [],
      "source": [
        "# TODO\n",
        "\n",
        "\n",
        "# DONE For Loss classification weight is needed\n",
        "#       For classes it is already calculated\n",
        "#       But need to multiply that eith 3/4\n",
        "#       And weight for Don't care should be 1/3\n",
        "# DONE -  Since Conv can handle bigger images Dont need rescale 224, 224 transformation\n",
        "#       Do not need!!\n",
        "#       But check new dimension\n",
        "# DONE Put the whole thing on GPU\n",
        "#\n",
        "# DONE Validation is needed\n",
        "#       Validation can be done on the whole image\n",
        "\n",
        "# DONE - LayerNorm normalization --- NOT Batch normalization \n",
        "\n",
        "\n",
        "\n",
        "# Trying out ResNet 50/101\n",
        "\n",
        "# Should I use mAP for all the rois or just the real ones?\n",
        "\n",
        "\n",
        "\n",
        "\n",
        "# Just at the end, if enough time - Do 2 Batches\n",
        "\n",
        "\n",
        "\n",
        "### For learning\n",
        "\n",
        "\n",
        "# Data augmentation??? More than that??\n",
        "\n",
        "# Setting the parameters for Adam?\n",
        "\n",
        "\n",
        "\n",
        "\n",
        "### For testing \n",
        "\n",
        "# Scale invarinace - Image pyramids???\n",
        "\n",
        "# mAP calculation for detection\n",
        "\n",
        "# Make inference faster with Truncated SVD\n",
        "\n",
        "# Evaluate\n",
        "#   Non-maximal supression: \n",
        "#       For every object we choose the one from the region proposals that has the highest IoU with the corresponding GT\n",
        "#\n",
        "#   Precision:\n",
        "#       From all of our prediction, how many of them are correct\n",
        "#       (So from all the predicted bounding boxes, how many has IoU with GT over 0.5)\n",
        "#\n",
        "#   Recall:\n",
        "#       From all the grund truth, how many did we predict correctly\n",
        "#       \n",
        "#\n",
        "#   mAP (mean Average Precision):\n",
        "#       To say if a predicted bounding box is correct or not\n",
        "#       Correct if IoU >= 0.5\n",
        "#       Wring if IoU < 0.5\n",
        "#\n",
        "#\n",
        "#       Look at one class first\n",
        "#       There are predictions for these classes, and these predictions have a probability\n",
        "#       Sorting the Bounding boxes based on the probability score\n",
        "#       Precision - Recall diagram\n",
        "#       We iterate through the sorted bounding boxes and check if they are correct or not\n",
        "#\n",
        "#       The area under the precision - recall diagram is the AP (average precision)\n",
        "#       \n",
        "#       We do these calculations for every class\n",
        "#\n",
        "#       We take the mean of all these classes and get the mean Average Precision (mAP)\n",
        "#\n",
        "#       We redo the calculations with other thresholds (What is the threshold IoU to accept a region proposal)\n",
        "#\n",
        "#       And then we take the average of all these numbers"
      ]
    },
    {
      "cell_type": "code",
      "execution_count": null,
      "metadata": {},
      "outputs": [],
      "source": []
    }
  ],
  "metadata": {
    "colab": {
      "provenance": []
    },
    "kernelspec": {
      "display_name": "Python 3",
      "name": "python3"
    },
    "language_info": {
      "codemirror_mode": {
        "name": "ipython",
        "version": 3
      },
      "file_extension": ".py",
      "mimetype": "text/x-python",
      "name": "python",
      "nbconvert_exporter": "python",
      "pygments_lexer": "ipython3",
      "version": "3.10.12"
    }
  },
  "nbformat": 4,
  "nbformat_minor": 0
}
